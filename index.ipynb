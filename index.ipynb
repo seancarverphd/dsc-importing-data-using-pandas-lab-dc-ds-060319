{
 "cells": [
  {
   "cell_type": "markdown",
   "metadata": {},
   "source": [
    "# Importing Data Using Pandas - Lab\n",
    "\n",
    "## Introduction\n",
    "\n",
    "In this lab, you'll get some practice with loading files with summary or metadata, and if you find that easy, the optional \"level up\" content covers loading data from a corrupted csv file!\n",
    "\n",
    "## Objectives\n",
    "You will be able to:\n",
    "* Import data from csv files and Excel files\n",
    "* Understand and explain key arguments for imports\n",
    "* Save information to csv and Excel files\n",
    "* Access data within a Pandas DataFrame (print() and .head())\n",
    "\n",
    "##  Loading Files with Summary or Meta Data\n",
    "\n",
    "Load either of the files Zipcode_Demos.csv or Zipcode_Demos.xlsx. What's going on with this dataset? Clean it up into a useable format and describe the nuances of how the data is currently formatted.\n",
    "\n",
    "All data files are stored in a folder titled 'Data'."
   ]
  },
  {
   "cell_type": "code",
   "execution_count": 17,
   "metadata": {},
   "outputs": [],
   "source": [
    "?pd.read_csv"
   ]
  },
  {
   "cell_type": "code",
   "execution_count": 14,
   "metadata": {},
   "outputs": [
    {
     "name": "stdout",
     "output_type": "stream",
     "text": [
      "['0,Average Statistics,,,,,,,,,,,,,,,,,,,,,,,,,,,,,,,,,,,,,,,,,,,,,\\n', '1,,0,,,,,,,,,,,,,,,,,,,,,,,,,,,,,,,,,,,,,,,,,,,,\\n', '2,JURISDICTION NAME,10005.8,,,,,,,,,,,,,,,,,,,,,,,,,,,,,,,,,,,,,,,,,,,,\\n', '3,COUNT PARTICIPANTS,9.4,,,,,,,,,,,,,,,,,,,,,,,,,,,,,,,,,,,,,,,,,,,,\\n', '4,COUNT FEMALE,4.8,,,,,,,,,,,,,,,,,,,,,,,,,,,,,,,,,,,,,,,,,,,,\\n', '5,PERCENT FEMALE,0.404,,,,,,,,,,,,,,,,,,,,,,,,,,,,,,,,,,,,,,,,,,,,\\n', '6,COUNT MALE,4.6,,,,,,,,,,,,,,,,,,,,,,,,,,,,,,,,,,,,,,,,,,,,\\n', '7,PERCENT MALE,0.396,,,,,,,,,,,,,,,,,,,,,,,,,,,,,,,,,,,,,,,,,,,,\\n', '8,COUNT GENDER UNKNOWN,0,,,,,,,,,,,,,,,,,,,,,,,,,,,,,,,,,,,,,,,,,,,,\\n', '9,PERCENT GENDER UNKNOWN,0,,,,,,,,,,,,,,,,,,,,,,,,,,,,,,,,,,,,,,,,,,,,\\n', '10,COUNT GENDER TOTAL,9.4,,,,,,,,,,,,,,,,,,,,,,,,,,,,,,,,,,,,,,,,,,,,\\n', '11,PERCENT GENDER TOTAL,80,,,,,,,,,,,,,,,,,,,,,,,,,,,,,,,,,,,,,,,,,,,,\\n', '12,COUNT PACIFIC ISLANDER,0,,,,,,,,,,,,,,,,,,,,,,,,,,,,,,,,,,,,,,,,,,,,\\n', '13,PERCENT PACIFIC ISLANDER,0,,,,,,,,,,,,,,,,,,,,,,,,,,,,,,,,,,,,,,,,,,,,\\n', '14,COUNT HISPANIC LATINO,2,,,,,,,,,,,,,,,,,,,,,,,,,,,,,,,,,,,,,,,,,,,,\\n', '15,PERCENT HISPANIC LATINO,0.105,,,,,,,,,,,,,,,,,,,,,,,,,,,,,,,,,,,,,,,,,,,,\\n', '16,COUNT AMERICAN INDIAN,0,,,,,,,,,,,,,,,,,,,,,,,,,,,,,,,,,,,,,,,,,,,,\\n', '17,PERCENT AMERICAN INDIAN,0,,,,,,,,,,,,,,,,,,,,,,,,,,,,,,,,,,,,,,,,,,,,\\n', '18,COUNT ASIAN NON HISPANIC,3.6,,,,,,,,,,,,,,,,,,,,,,,,,,,,,,,,,,,,,,,,,,,,\\n', '19,PERCENT ASIAN NON HISPANIC,0.437,,,,,,,,,,,,,,,,,,,,,,,,,,,,,,,,,,,,,,,,,,,,\\n', '20,COUNT WHITE NON HISPANIC,0.8,,,,,,,,,,,,,,,,,,,,,,,,,,,,,,,,,,,,,,,,,,,,\\n', '21,PERCENT WHITE NON HISPANIC,0.036,,,,,,,,,,,,,,,,,,,,,,,,,,,,,,,,,,,,,,,,,,,,\\n', '22,COUNT BLACK NON HISPANIC,2.6,,,,,,,,,,,,,,,,,,,,,,,,,,,,,,,,,,,,,,,,,,,,\\n', '23,PERCENT BLACK NON HISPANIC,0.181,,,,,,,,,,,,,,,,,,,,,,,,,,,,,,,,,,,,,,,,,,,,\\n', '24,COUNT OTHER ETHNICITY,0.4,,,,,,,,,,,,,,,,,,,,,,,,,,,,,,,,,,,,,,,,,,,,\\n', '25,PERCENT OTHER ETHNICITY,0.04,,,,,,,,,,,,,,,,,,,,,,,,,,,,,,,,,,,,,,,,,,,,\\n', '26,COUNT ETHNICITY UNKNOWN,0,,,,,,,,,,,,,,,,,,,,,,,,,,,,,,,,,,,,,,,,,,,,\\n', '27,PERCENT ETHNICITY UNKNOWN,0,,,,,,,,,,,,,,,,,,,,,,,,,,,,,,,,,,,,,,,,,,,,\\n', '28,COUNT ETHNICITY TOTAL,9.4,,,,,,,,,,,,,,,,,,,,,,,,,,,,,,,,,,,,,,,,,,,,\\n', '29,PERCENT ETHNICITY TOTAL,79.9,,,,,,,,,,,,,,,,,,,,,,,,,,,,,,,,,,,,,,,,,,,,\\n', '30,COUNT PERMANENT RESIDENT ALIEN,0.5,,,,,,,,,,,,,,,,,,,,,,,,,,,,,,,,,,,,,,,,,,,,\\n', '31,PERCENT PERMANENT RESIDENT ALIEN,0.061,,,,,,,,,,,,,,,,,,,,,,,,,,,,,,,,,,,,,,,,,,,,\\n', '32,COUNT US CITIZEN,8.9,,,,,,,,,,,,,,,,,,,,,,,,,,,,,,,,,,,,,,,,,,,,\\n', '33,PERCENT US CITIZEN,0.739,,,,,,,,,,,,,,,,,,,,,,,,,,,,,,,,,,,,,,,,,,,,\\n', '34,COUNT OTHER CITIZEN STATUS,0,,,,,,,,,,,,,,,,,,,,,,,,,,,,,,,,,,,,,,,,,,,,\\n', '35,PERCENT OTHER CITIZEN STATUS,0,,,,,,,,,,,,,,,,,,,,,,,,,,,,,,,,,,,,,,,,,,,,\\n', '36,COUNT CITIZEN STATUS UNKNOWN,0,,,,,,,,,,,,,,,,,,,,,,,,,,,,,,,,,,,,,,,,,,,,\\n', '37,PERCENT CITIZEN STATUS UNKNOWN,0,,,,,,,,,,,,,,,,,,,,,,,,,,,,,,,,,,,,,,,,,,,,\\n', '38,COUNT CITIZEN STATUS TOTAL,9.4,,,,,,,,,,,,,,,,,,,,,,,,,,,,,,,,,,,,,,,,,,,,\\n', '39,PERCENT CITIZEN STATUS TOTAL,80,,,,,,,,,,,,,,,,,,,,,,,,,,,,,,,,,,,,,,,,,,,,\\n', '40,COUNT RECEIVES PUBLIC ASSISTANCE,2.3,,,,,,,,,,,,,,,,,,,,,,,,,,,,,,,,,,,,,,,,,,,,\\n', '41,PERCENT RECEIVES PUBLIC ASSISTANCE,0.151,,,,,,,,,,,,,,,,,,,,,,,,,,,,,,,,,,,,,,,,,,,,\\n', '42,COUNT NRECEIVES PUBLIC ASSISTANCE,7.1,,,,,,,,,,,,,,,,,,,,,,,,,,,,,,,,,,,,,,,,,,,,\\n', '43,PERCENT NRECEIVES PUBLIC ASSISTANCE,0.649,,,,,,,,,,,,,,,,,,,,,,,,,,,,,,,,,,,,,,,,,,,,\\n', '44,COUNT PUBLIC ASSISTANCE UNKNOWN,0,,,,,,,,,,,,,,,,,,,,,,,,,,,,,,,,,,,,,,,,,,,,\\n', '45,PERCENT PUBLIC ASSISTANCE UNKNOWN,0,,,,,,,,,,,,,,,,,,,,,,,,,,,,,,,,,,,,,,,,,,,,\\n', '46,COUNT PUBLIC ASSISTANCE TOTAL,9.4,,,,,,,,,,,,,,,,,,,,,,,,,,,,,,,,,,,,,,,,,,,,\\n', '47,JURISDICTION NAME,COUNT PARTICIPANTS,COUNT FEMALE,PERCENT FEMALE,COUNT MALE,PERCENT MALE,COUNT GENDER UNKNOWN,PERCENT GENDER UNKNOWN,COUNT GENDER TOTAL,PERCENT GENDER TOTAL,COUNT PACIFIC ISLANDER,PERCENT PACIFIC ISLANDER,COUNT HISPANIC LATINO,PERCENT HISPANIC LATINO,COUNT AMERICAN INDIAN,PERCENT AMERICAN INDIAN,COUNT ASIAN NON HISPANIC,PERCENT ASIAN NON HISPANIC,COUNT WHITE NON HISPANIC,PERCENT WHITE NON HISPANIC,COUNT BLACK NON HISPANIC,PERCENT BLACK NON HISPANIC,COUNT OTHER ETHNICITY,PERCENT OTHER ETHNICITY,COUNT ETHNICITY UNKNOWN,PERCENT ETHNICITY UNKNOWN,COUNT ETHNICITY TOTAL,PERCENT ETHNICITY TOTAL,COUNT PERMANENT RESIDENT ALIEN,PERCENT PERMANENT RESIDENT ALIEN,COUNT US CITIZEN,PERCENT US CITIZEN,COUNT OTHER CITIZEN STATUS,PERCENT OTHER CITIZEN STATUS,COUNT CITIZEN STATUS UNKNOWN,PERCENT CITIZEN STATUS UNKNOWN,COUNT CITIZEN STATUS TOTAL,PERCENT CITIZEN STATUS TOTAL,COUNT RECEIVES PUBLIC ASSISTANCE,PERCENT RECEIVES PUBLIC ASSISTANCE,COUNT NRECEIVES PUBLIC ASSISTANCE,PERCENT NRECEIVES PUBLIC ASSISTANCE,COUNT PUBLIC ASSISTANCE UNKNOWN,PERCENT PUBLIC ASSISTANCE UNKNOWN,COUNT PUBLIC ASSISTANCE TOTAL,PERCENT PUBLIC ASSISTANCE TOTAL\\n', '48,10001,44,22,0.5,22,0.5,0,0,44,100,0,0,16,0.36,0,0,3,0.07,1,0.02,21,0.48,3,0.07,0,0,44,100,2,0.05,42,0.95,0,0,0,0,44,100,20,0.45,24,0.55,0,0,44,100\\n', '49,10002,35,19,0.54,16,0.46,0,0,35,100,0,0,1,0.03,0,0,28,0.8,6,0.17,0,0,0,0,0,0,35,100,2,0.06,33,0.94,0,0,0,0,35,100,2,0.06,33,0.94,0,0,35,100\\n', '50,10003,1,1,1,0,0,0,0,1,100,0,0,0,0,0,0,1,1,0,0,0,0,0,0,0,0,1,100,0,0,1,1,0,0,0,0,1,100,0,0,1,1,0,0,1,100\\n', '51,10004,0,0,0,0,0,0,0,0,0,0,0,0,0,0,0,0,0,0,0,0,0,0,0,0,0,0,0,0,0,0,0,0,0,0,0,0,0,0,0,0,0,0,0,0,0\\n', '52,10005,2,2,1,0,0,0,0,2,100,0,0,0,0,0,0,1,0.5,0,0,1,0.5,0,0,0,0,2,100,1,0.5,1,0.5,0,0,0,0,2,100,0,0,2,1,0,0,2,100\\n', '53,10006,6,2,0.33,4,0.67,0,0,6,100,0,0,2,0.33,0,0,0,0,1,0.17,3,0.5,0,0,0,0,6,100,0,0,6,1,0,0,0,0,6,100,0,0,6,1,0,0,6,100\\n', '54,10007,1,0,0,1,1,0,0,1,100,0,0,0,0,0,0,1,1,0,0,0,0,0,0,0,0,1,100,0,0,1,1,0,0,0,0,1,100,1,1,0,0,0,0,1,100\\n', '55,10009,2,0,0,2,1,0,0,2,100,0,0,0,0,0,0,2,1,0,0,0,0,0,0,0,0,2,100,0,0,2,1,0,0,0,0,2,100,0,0,2,1,0,0,2,100\\n', '56,10010,0,0,0,0,0,0,0,0,0,0,0,0,0,0,0,0,0,0,0,0,0,0,0,0,0,0,0,0,0,0,0,0,0,0,0,0,0,0,0,0,0,0,0,0,0\\n', '57,10011,3,2,0.67,1,0.33,0,0,3,100,0,0,1,0.33,0,0,0,0,0,0,1,0.33,1,0.33,0,0,3,99,0,0,3,1,0,0,0,0,3,100,0,0,3,1,0,0,3,100\\n']\n",
      "[]\n",
      "[]\n",
      "[]\n",
      "[]\n",
      "[]\n",
      "[]\n",
      "[]\n",
      "[]\n",
      "[]\n"
     ]
    }
   ],
   "source": [
    "f = open('Data/Zipcode_Demos.csv')\n",
    "for i in range(10):\n",
    "    print(f.readlines())"
   ]
  },
  {
   "cell_type": "code",
   "execution_count": 18,
   "metadata": {},
   "outputs": [
    {
     "ename": "NameError",
     "evalue": "name 'skiprows' is not defined",
     "output_type": "error",
     "traceback": [
      "\u001b[0;31m\u001b[0m",
      "\u001b[0;31mNameError\u001b[0mTraceback (most recent call last)",
      "\u001b[0;32m<ipython-input-18-44b86a92edcb>\u001b[0m in \u001b[0;36m<module>\u001b[0;34m()\u001b[0m\n\u001b[1;32m      1\u001b[0m \u001b[0;32mimport\u001b[0m \u001b[0mpandas\u001b[0m \u001b[0;32mas\u001b[0m \u001b[0mpd\u001b[0m\u001b[0;34m\u001b[0m\u001b[0m\n\u001b[0;32m----> 2\u001b[0;31m \u001b[0mdf\u001b[0m \u001b[0;34m=\u001b[0m \u001b[0mpd\u001b[0m\u001b[0;34m.\u001b[0m\u001b[0mread_csv\u001b[0m\u001b[0;34m(\u001b[0m\u001b[0;34m'Data/Zipcode_Demos.csv'\u001b[0m\u001b[0;34m,\u001b[0m\u001b[0mskiprows\u001b[0m\u001b[0;34m(\u001b[0m\u001b[0;36m46\u001b[0m\u001b[0;34m)\u001b[0m\u001b[0;34m)\u001b[0m\u001b[0;34m\u001b[0m\u001b[0m\n\u001b[0m\u001b[1;32m      3\u001b[0m \u001b[0mdf\u001b[0m\u001b[0;34m.\u001b[0m\u001b[0mhead\u001b[0m\u001b[0;34m(\u001b[0m\u001b[0;34m)\u001b[0m\u001b[0;34m\u001b[0m\u001b[0m\n",
      "\u001b[0;31mNameError\u001b[0m: name 'skiprows' is not defined"
     ]
    }
   ],
   "source": [
    "import pandas as pd\n",
    "df = pd.read_csv('Data/Zipcode_Demos.csv',skiprows(46))\n",
    "df.head()"
   ]
  },
  {
   "cell_type": "markdown",
   "metadata": {},
   "source": [
    "## Level Up (Optional) - Loading Corrupt CSV files\n",
    "\n",
    "Occasionally, you encountered some really ill formatted data. One example of this can be data that has strings containing commas in a csv file. Under the standard protocol, when this occurs, one is supposed to use quotes to differentiate between the commas denoting fields and commas within those fields themselves. For example, we could have a table like this:  \n",
    "\n",
    "ReviewerID,Rating,N_reviews,Review,VenueID\n",
    "123456,4,137,This restaurant was pretty good, we had a great time.,98765\n",
    "\n",
    "Which should be saved like this if it were a csv (to avoid confusion with the commas in the Review text):\n",
    "\"ReviewerID\",\"Rating\",\"N_reviews\",\"Review\",\"VenueID\"\n",
    "\"123456\",\"4\",\"137\",\"This restaurant was pretty good, we had a great time.\",\"98765\"\n",
    "\n",
    "Attempt to import the corrupt file, or at least a small preview of it. It is appropriately titled Yelp_Reviews_corrupt.csv. Investigate some of the intricacies of skipping rows to then pass over this error and comment on what you think is going on."
   ]
  },
  {
   "cell_type": "code",
   "execution_count": null,
   "metadata": {
    "collapsed": true
   },
   "outputs": [],
   "source": [
    "#Hint: here's a useful programming pattern to use.\n",
    "try:\n",
    "    #do something\n",
    "except Exception as e:\n",
    "    #handle your exception e"
   ]
  },
  {
   "cell_type": "code",
   "execution_count": null,
   "metadata": {
    "collapsed": true
   },
   "outputs": [],
   "source": [
    "#Your code here"
   ]
  },
  {
   "cell_type": "markdown",
   "metadata": {},
   "source": [
    "## Summary\n",
    "\n",
    "Congratulations, you now practiced your pandas-importing skills!"
   ]
  }
 ],
 "metadata": {
  "kernelspec": {
   "display_name": "Python 3",
   "language": "python",
   "name": "python3"
  },
  "language_info": {
   "codemirror_mode": {
    "name": "ipython",
    "version": 3
   },
   "file_extension": ".py",
   "mimetype": "text/x-python",
   "name": "python",
   "nbconvert_exporter": "python",
   "pygments_lexer": "ipython3",
   "version": "3.6.6"
  }
 },
 "nbformat": 4,
 "nbformat_minor": 2
}
